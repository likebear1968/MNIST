{
 "cells": [
  {
   "cell_type": "code",
   "execution_count": null,
   "metadata": {},
   "outputs": [],
   "source": [
    "import numpy as np\n",
    "from dataset import get_images, get_labels, url, file_names\n",
    "from affine import Affine\n",
    "from batchNormalization import BatchNormalization\n",
    "from relu import Relu\n",
    "from softmaxWithLoss import SoftmaxWithLoss\n",
    "from model import Model\n",
    "from optimizer import SGD, Momentum, AdaGrad, RMSprop, Adam\n",
    "from trainer import Trainer\n",
    "from util import scale\n",
    "from metrics import Factory"
   ]
  },
  {
   "cell_type": "code",
   "execution_count": null,
   "metadata": {},
   "outputs": [],
   "source": [
    "#データセット読み込み\n",
    "x_train = get_images(url, file_names[0])\n",
    "#t_train = get_labels(url, file_names[1])\n",
    "t_train = get_labels(url, file_names[1], one_hot=None)\n",
    "x_test = get_images(url, file_names[2])\n",
    "#t_test = get_labels(url, file_names[3])\n",
    "t_test = get_labels(url, file_names[3], one_hot=None)\n",
    "print(x_train.shape)\n",
    "print(t_train.shape)\n",
    "print(x_test.shape)\n",
    "print(t_test.shape)"
   ]
  },
  {
   "cell_type": "code",
   "execution_count": null,
   "metadata": {},
   "outputs": [],
   "source": [
    "#学習\n",
    "m = Model()\n",
    "m.append(Affine(scale(784) * np.random.randn(784, 100), np.zeros(100)))\n",
    "m.append(BatchNormalization(np.ones(100), np.zeros(100)))\n",
    "m.append(Relu())\n",
    "m.append(Affine(scale(100) * np.random.randn(100, 10), np.zeros(10)))\n",
    "m.append_loss(SoftmaxWithLoss())\n",
    "m.summary()"
   ]
  },
  {
   "cell_type": "code",
   "execution_count": null,
   "metadata": {},
   "outputs": [],
   "source": [
    "t = Trainer(m, SGD(lr=0.1), Factory.create(Factory.MTYPE.MTR, lbl=[0,1,2,3,4,5,6,7,8,9]))\n",
    "t.fit(x_train, t_train, 10, 100)"
   ]
  },
  {
   "cell_type": "code",
   "execution_count": null,
   "metadata": {},
   "outputs": [],
   "source": [
    "#テスト\n",
    "for i in range(len(x_test)):\n",
    "    y = m.predict(x_test[[i]])\n",
    "    loss, prd = m.loss.forward(y, t_test[[i]])\n",
    "    t.metrics.add_metrics(loss, t_test[i], prd)\n",
    "t.metrics.get_metrics()"
   ]
  }
 ],
 "metadata": {
  "kernelspec": {
   "display_name": "Python 3",
   "language": "python",
   "name": "python3"
  },
  "language_info": {
   "codemirror_mode": {
    "name": "ipython",
    "version": 3
   },
   "file_extension": ".py",
   "mimetype": "text/x-python",
   "name": "python",
   "nbconvert_exporter": "python",
   "pygments_lexer": "ipython3",
   "version": "3.7.3"
  }
 },
 "nbformat": 4,
 "nbformat_minor": 2
}
