{
 "cells": [
  {
   "cell_type": "code",
   "execution_count": null,
   "metadata": {},
   "outputs": [],
   "source": [
    "import numpy as np\n",
    "from dataset import get_images, get_labels, url, file_names\n",
    "from convolution import Convolution\n",
    "from pooling import Pooling\n",
    "from affine import Affine\n",
    "from relu import Relu\n",
    "from softmaxWithLoss import SoftmaxWithLoss\n",
    "from dropout import Dropout\n",
    "from model import Model\n",
    "from optimizer import SGD, Momentum, AdaGrad, RMSprop, Adam\n",
    "from trainer import Trainer\n",
    "from util import scale\n",
    "from metrics import Factory"
   ]
  },
  {
   "cell_type": "code",
   "execution_count": null,
   "metadata": {},
   "outputs": [],
   "source": [
    "#データセット読み込み\n",
    "x_train = get_images(url, file_names[0])\n",
    "t_train = get_labels(url, file_names[1], one_hot=None)\n",
    "x_test = get_images(url, file_names[2])\n",
    "t_test = get_labels(url, file_names[3], one_hot=None)\n",
    "print(x_train.shape)\n",
    "print(t_train.shape)\n",
    "print(x_test.shape)\n",
    "print(t_test.shape)"
   ]
  },
  {
   "cell_type": "code",
   "execution_count": null,
   "metadata": {},
   "outputs": [],
   "source": [
    "def check_shape(x, layers):\n",
    "    print(x.shape)\n",
    "    for layer in layers:\n",
    "        x = layer.forward(x)\n",
    "        print(type(layer), x.shape)"
   ]
  },
  {
   "cell_type": "code",
   "execution_count": null,
   "metadata": {},
   "outputs": [],
   "source": [
    "#モデル生成\n",
    "m = Model()\n",
    "m.append(Convolution(scale(1*3*3) * np.random.randn(8, 1, 3, 3), np.zeros(8)))\n",
    "m.append(Relu())\n",
    "m.append(Convolution(scale(8*3*3) * np.random.randn(8, 8, 3, 3), np.zeros(8)))\n",
    "m.append(Relu())\n",
    "m.append(Pooling())\n",
    "#m.append(Convolution(scale(8*3*3) * np.random.randn(8, 8, 3, 3), np.zeros(8)))\n",
    "#m.append(Relu())\n",
    "#m.append(Convolution(scale(8*3*3) * np.random.randn(8, 8, 3, 3), np.zeros(8)))\n",
    "#m.append(Relu())\n",
    "#m.append(Pooling())\n",
    "#m.append(Affine(scale(8*4*4) * np.random.randn(8*4*4, 50), np.zeros(50)))\n",
    "m.append(Affine(scale(8*12*12) * np.random.randn(8*12*12, 50), np.zeros(50)))\n",
    "m.append(Relu())\n",
    "#m.append(Dropout())\n",
    "m.append(Affine(scale(50) * np.random.randn(50, 10), np.zeros(10)))\n",
    "#m.append(Dropout())\n",
    "m.append_loss(SoftmaxWithLoss())\n",
    "m.summary()"
   ]
  },
  {
   "cell_type": "code",
   "execution_count": null,
   "metadata": {},
   "outputs": [],
   "source": [
    "#学習\n",
    "#check_shape(x_train[:10], m.layers)\n",
    "t = Trainer(m, SGD(lr=0.1), Factory.create(Factory.MTYPE.MTR, lbl=[0,1,2,3,4,5,6,7,8,9]))\n",
    "t.fit(x_train, t_train, 10, 100)"
   ]
  },
  {
   "cell_type": "code",
   "execution_count": null,
   "metadata": {},
   "outputs": [],
   "source": [
    "#テスト\n",
    "met = Factory.create(Factory.MTYPE.MTR, lbl=[0,1,2,3,4,5,6,7,8,9])\n",
    "ret = np.array([])\n",
    "for i in range(len(x_test)):\n",
    "    score = m.predict(x_test[[i]])\n",
    "    ret = np.append(ret, met.evaluate(t_test[[i]], score))\n",
    "ret = np.sum(ret.reshape(-1, 4), axis=0) / len(x_test)\n",
    "print('acc %.4f | f1 %.4f' %(ret[0], ret[3]))"
   ]
  }
 ],
 "metadata": {
  "kernelspec": {
   "display_name": "Python 3",
   "language": "python",
   "name": "python3"
  },
  "language_info": {
   "codemirror_mode": {
    "name": "ipython",
    "version": 3
   },
   "file_extension": ".py",
   "mimetype": "text/x-python",
   "name": "python",
   "nbconvert_exporter": "python",
   "pygments_lexer": "ipython3",
   "version": "3.7.3"
  }
 },
 "nbformat": 4,
 "nbformat_minor": 2
}
