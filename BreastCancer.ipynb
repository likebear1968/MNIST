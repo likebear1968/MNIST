{
 "cells": [
  {
   "cell_type": "code",
   "execution_count": null,
   "metadata": {},
   "outputs": [],
   "source": [
    "import numpy as np\n",
    "from sklearn.datasets import load_breast_cancer\n",
    "from sklearn.model_selection import StratifiedShuffleSplit\n",
    "from batchNormalization import BatchNormalization\n",
    "from affine import Affine\n",
    "from relu import Relu\n",
    "from sigmoidWithLoss import SigmoidWithLoss\n",
    "from model import Model\n",
    "from optimizer import SGD, Momentum, AdaGrad, RMSprop, Adam\n",
    "from trainer import Trainer\n",
    "from util import scale\n",
    "from metrics import Factory"
   ]
  },
  {
   "cell_type": "code",
   "execution_count": null,
   "metadata": {},
   "outputs": [],
   "source": [
    "#データセット読み込み\n",
    "data = load_breast_cancer()\n",
    "x = data.data\n",
    "y = data.target\n",
    "ss = StratifiedShuffleSplit(n_splits=2, train_size=0.7, random_state=0)\n",
    "train_idx, test_idx = ss.split(x, y)\n",
    "x_train, x_test, t_train, t_test = x[train_idx[0]], x[train_idx[1]], y[train_idx[0]], y[train_idx[1]]"
   ]
  },
  {
   "cell_type": "code",
   "execution_count": null,
   "metadata": {},
   "outputs": [],
   "source": [
    "#学習\n",
    "m = Model()\n",
    "m.append(Affine(scale(30) * np.random.randn(30, 100), np.zeros(100)))\n",
    "m.append(BatchNormalization(np.ones(100), np.zeros(100)))\n",
    "m.append(Relu())\n",
    "m.append(Affine(scale(100) * np.random.randn(100, 1), np.zeros(1)))\n",
    "m.append_loss(SigmoidWithLoss())\n",
    "m.summary()"
   ]
  },
  {
   "cell_type": "code",
   "execution_count": null,
   "metadata": {},
   "outputs": [],
   "source": [
    "t = Trainer(m, SGD(lr=0.1), Factory.create(Factory.MTYPE.MTR))\n",
    "t.fit(x_train, t_train, 50, 50)"
   ]
  },
  {
   "cell_type": "code",
   "execution_count": null,
   "metadata": {},
   "outputs": [],
   "source": [
    "#テスト\n",
    "met = Factory.create(Factory.MTYPE.MTR)\n",
    "ret = np.array([])\n",
    "mtr = np.array([])\n",
    "for i in range(len(x_test)):\n",
    "    score = m.predict(x_test[[i]])\n",
    "    ret = np.append(ret, met.evaluate(t_test[[i]], score))\n",
    "    mtr = np.append(mtr, met.get_matrix(t_test[[i]], score).flatten())\n",
    "ret = np.sum(ret.reshape(-1, 4), axis=0) / len(x_test)\n",
    "print('acc %.4f | f1 %.4f' %(ret[0], ret[3]))\n",
    "np.sum(mtr.reshape(-1, 4), axis=0)"
   ]
  }
 ],
 "metadata": {
  "kernelspec": {
   "display_name": "Python 3",
   "language": "python",
   "name": "python3"
  },
  "language_info": {
   "codemirror_mode": {
    "name": "ipython",
    "version": 3
   },
   "file_extension": ".py",
   "mimetype": "text/x-python",
   "name": "python",
   "nbconvert_exporter": "python",
   "pygments_lexer": "ipython3",
   "version": "3.7.3"
  }
 },
 "nbformat": 4,
 "nbformat_minor": 2
}
